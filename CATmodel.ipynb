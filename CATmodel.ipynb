{
 "cells": [
  {
   "cell_type": "markdown",
   "metadata": {},
   "source": [
    "# CAT risk model"
   ]
  },
  {
   "cell_type": "code",
   "execution_count": 1,
   "metadata": {},
   "outputs": [],
   "source": [
    "import numpy as np"
   ]
  },
  {
   "cell_type": "code",
   "execution_count": null,
   "metadata": {},
   "outputs": [],
   "source": [
    "# define environment \n",
    "\n",
    "# fault area\n",
    "x_fault = np.linspace()\n",
    "y_fault = np.linspace()\n",
    "\n",
    "# study area \n",
    "x = np.linspace()\n",
    "y = np.linspace()"
   ]
  },
  {
   "cell_type": "code",
   "execution_count": null,
   "metadata": {},
   "outputs": [],
   "source": [
    "## HAZARD ASSESSMENT ##\n",
    "\n",
    "# define source model\n",
    "# SRC = {5 faults, location, }"
   ]
  },
  {
   "cell_type": "code",
   "execution_count": null,
   "metadata": {},
   "outputs": [],
   "source": [
    "# define size distribution\n",
    "\n",
    "# Smax # searching for the maximum in our catalog / searching online for the value\n",
    "\n",
    "# define the sequence for each source\n",
    "Si1\n",
    "Si2\n",
    "\n",
    "ratei # calculate with a and b difend simply a=5, b=1"
   ]
  },
  {
   "cell_type": "code",
   "execution_count": null,
   "metadata": {},
   "outputs": [],
   "source": [
    "# define event table => go to SED website for seismicities\n",
    "\n",
    "# correct rate, function of stoch.set definition (normalization)"
   ]
  },
  {
   "cell_type": "code",
   "execution_count": null,
   "metadata": {},
   "outputs": [],
   "source": [
    "# define intensity footprint\n",
    "# discrete the fault and calculate the counter line for the house (intensity and OGA)"
   ]
  }
 ],
 "metadata": {
  "kernelspec": {
   "display_name": "Python 3",
   "language": "python",
   "name": "python3"
  },
  "language_info": {
   "codemirror_mode": {
    "name": "ipython",
    "version": 3
   },
   "file_extension": ".py",
   "mimetype": "text/x-python",
   "name": "python",
   "nbconvert_exporter": "python",
   "pygments_lexer": "ipython3",
   "version": "3.8.3"
  }
 },
 "nbformat": 4,
 "nbformat_minor": 4
}
