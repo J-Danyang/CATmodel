{
 "cells": [
  {
   "cell_type": "markdown",
   "metadata": {},
   "source": [
    "# CAT risk model"
   ]
  },
  {
   "cell_type": "code",
   "execution_count": 1,
   "metadata": {},
   "outputs": [],
   "source": [
    "import numpy as np\n",
    "import math"
   ]
  },
  {
   "cell_type": "code",
   "execution_count": 2,
   "metadata": {},
   "outputs": [],
   "source": [
    "## define environment ##\n",
    "\n",
    "# to define the study area\n",
    "xmin=0;xmax=100;dx=1; \n",
    "ymin=0;ymax=100;dy=1;\n",
    "\n",
    "# to get a smaller area with faults inside\n",
    "# dx_fault=100; \n",
    "# dx_fault=100;\n",
    "\n",
    "# study area \n",
    "x = np.arange(xmin,xmax,dx)\n",
    "y = np.arange(ymin,ymax,dy)\n",
    "\n",
    "# fault area\n",
    "# x_fault = np.arange(xmin-dx_fault,xmax,dx)\n",
    "# y_fault = np.arange(ymin-dy_fault,ymax,dy)"
   ]
  },
  {
   "cell_type": "code",
   "execution_count": 3,
   "metadata": {},
   "outputs": [],
   "source": [
    "def GetMagnitude(L, a = 5.08, b = 1.16): \n",
    "    M = a + b * np.log10(L)\n",
    "    return M\n",
    "\n",
    "def distance(point1, point2):\n",
    "    d = 0\n",
    "    for i in range(len(point1)):\n",
    "        d += (point1[i] - point2[i]) ** 2\n",
    "    return np.sqrt(d)"
   ]
  },
  {
   "cell_type": "code",
   "execution_count": 6,
   "metadata": {},
   "outputs": [
    {
     "name": "stdout",
     "output_type": "stream",
     "text": [
      "70.0\n",
      "70.71067811865476\n"
     ]
    }
   ],
   "source": [
    "## HAZARD ASSESSMENT ##\n",
    "\n",
    "# define source model\n",
    "# FOR NOW 2D NOT 3D\n",
    "# SRC = {5 faults, location, }\n",
    "\n",
    "SRC = {'ID': ['src1', 'src2'],\n",
    "       'ini': [[20, 40], [60, 0]],\n",
    "       'iend': [[20, 110], [110, 50]],\n",
    "       'S': []\n",
    "      }\n",
    "\n",
    "for i in range(len(SRC['ID'])):\n",
    "    point1=SRC['ini'][i]\n",
    "    point2=SRC['iend'][i]\n",
    "    \n",
    "    M = GetMagnitude(distance(point1, point2))\n",
    "    print(distance(point1, point2))\n",
    "    SRC['S'].append(M)\n",
    "    \n",
    "SRC['S']\n",
    "Mmax = max(SRC['S'])\n",
    "Mmax"
   ]
  },
  {
   "cell_type": "code",
   "execution_count": 7,
   "metadata": {},
   "outputs": [
    {
     "data": {
      "image/png": "[encoded data removed]",
      "text/plain": [
       "<Figure size 432x432 with 1 Axes>"
      ]
     },
     "metadata": {
      "needs_background": "light"
     },
     "output_type": "display_data"
    }
   ],
   "source": [
    "# define size distribution\n",
    "from scipy.stats import norm\n",
    "import matplotlib.pyplot as plt\n",
    "\n",
    "# discretise the magnitude Mi range\n",
    "Mmin = 5\n",
    "Mmax = max(SRC['S'])\n",
    "DM = 0.1\n",
    "# Mi = np.arange(Mmin,Mmax+DM,DM)\n",
    "#### CORRECT\n",
    "Mi = np.arange(Mmin,Mmax,DM)\n",
    "\n",
    "# calculate the rate of earthquakes of magnitude Mi\n",
    "a = 3.5\n",
    "b = 1\n",
    "ratei = 10**(a - b * (Mi-DM/2)) - 10**(a - b * (Mi+DM/2))\n",
    "\n",
    "# calculate the mean PGA at the site for earthquakes of magnitude Mi\n",
    "### grid point => footprint\n",
    "# d = 10\n",
    "# h = 2\n",
    "r = math.sqrt(d**2 + h**2)\n",
    "Ii = 10 ** (-1.34 + 0.23 * Mi - math.log10(r))\n"
   ]
  },
  {
   "cell_type": "code",
   "execution_count": null,
   "metadata": {},
   "outputs": [],
   "source": [
    "# define event table => go to SED website for seismicities\n",
    "\n",
    "# correct rate, function of stoch.set definition (normalization)"
   ]
  },
  {
   "cell_type": "code",
   "execution_count": null,
   "metadata": {},
   "outputs": [],
   "source": [
    "# define intensity footprint\n",
    "# discrete the fault and calculate the counter line for the house (intensity and OGA)"
   ]
  }
 ],
 "metadata": {
  "kernelspec": {
   "display_name": "Python 3",
   "language": "python",
   "name": "python3"
  },
  "language_info": {
   "codemirror_mode": {
    "name": "ipython",
    "version": 3
   },
   "file_extension": ".py",
   "mimetype": "text/x-python",
   "name": "python",
   "nbconvert_exporter": "python",
   "pygments_lexer": "ipython3",
   "version": "3.9.2"
  }
 },
 "nbformat": 4,
 "nbformat_minor": 4
}
